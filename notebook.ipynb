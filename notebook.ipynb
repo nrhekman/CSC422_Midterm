{
 "cells": [
  {
   "cell_type": "code",
   "execution_count": null,
   "id": "ba999c1c",
   "metadata": {},
   "outputs": [],
   "source": [
    "#Imports\n",
    "from ucimlrepo import fetch_ucirepo\n",
    "import pandas as pd\n",
    "import numpy as np\n",
    "import matplotlib.pyplot as plt\n",
    "from sklearn.model_selection import train_test_split\n",
    "from sklearn.preprocessing import StandardScaler\n",
    "from sklearn.linear_model import LogisticRegression\n",
    "from sklearn.metrics import confusion_matrix\n",
    "from sklearn.dummy import DummyClassifier\n",
    "import seaborn as sns"
   ]
  },
  {
   "cell_type": "code",
   "execution_count": null,
   "id": "e99cd261",
   "metadata": {},
   "outputs": [],
   "source": [
    "# fetch dataset \n",
    "default_of_credit_card_clients = fetch_ucirepo(id=350) \n",
    "  \n",
    "# data (as pandas dataframes) \n",
    "X = default_of_credit_card_clients.data.features \n",
    "y = default_of_credit_card_clients.data.targets \n",
    "\n",
    "# Stores variable names\n",
    "variables = default_of_credit_card_clients.variables\n",
    "\n",
    "# Combines X and y for preprocessing\n",
    "data = pd.concat([X, y], axis=1) \n",
    "# Labels the Variables with more useful names\n",
    "variable_names = variables['description'].values\n",
    "data.columns = variable_names[1:25]\n",
    "print(variable_names)"
   ]
  },
  {
   "cell_type": "markdown",
   "id": "e545e88b",
   "metadata": {},
   "source": [
    "## Data Exploration"
   ]
  },
  {
   "cell_type": "code",
   "execution_count": null,
   "id": "7c7e2184",
   "metadata": {},
   "outputs": [],
   "source": [
    "# Summary Stats of each X var\n",
    "summaryX = data.iloc[:, 0:23].describe()\n",
    "print(summaryX)"
   ]
  },
  {
   "cell_type": "code",
   "execution_count": null,
   "id": "4641af3f",
   "metadata": {},
   "outputs": [],
   "source": [
    "#Scatterplots of Features \n",
    "i = 0\n",
    "while i < 23:\n",
    "    plt.figure()  # Create a new figure\n",
    "    plt.scatter(data.iloc[:, i], y, alpha=0.1)\n",
    "    plt.title(f'Scatter Plot of Feature {data.columns[i]}')\n",
    "    plt.xlabel(f'Feature {data.columns[i]}')\n",
    "    plt.ylabel('Default')\n",
    "    plt.show()  # Display the plot\n",
    "    i += 1"
   ]
  },
  {
   "cell_type": "code",
   "execution_count": null,
   "id": "648ae0d4",
   "metadata": {},
   "outputs": [],
   "source": [
    "# Piechart of target values (also acts as baseline)\n",
    "default_counts = y.value_counts().sort_index()\n",
    "plt.pie(default_counts.values, labels=['Paid', 'Default'], colors=['green','red'], autopct='%1.1f%%')\n",
    "plt.title('Default Proportions')"
   ]
  },
  {
   "cell_type": "markdown",
   "id": "d33996d6",
   "metadata": {},
   "source": [
    "## Preprocessing"
   ]
  },
  {
   "cell_type": "code",
   "execution_count": null,
   "id": "e6c9787f",
   "metadata": {},
   "outputs": [],
   "source": [
    "\n",
    "# Filters out users who were billed nothing\n",
    "data_new= data[data.iloc[:,11:17].any(axis=1)]\n",
    "# data_new= data.copy() # for comparison to filtering\n",
    "\n",
    "# Seperates the target variable\n",
    "y_new = data_new['default payment next month']\n",
    "\n",
    "# Seperates the X variables \n",
    "X_new = data_new.iloc[:, 0:23]"
   ]
  },
  {
   "cell_type": "code",
   "execution_count": null,
   "id": "d2b32308",
   "metadata": {},
   "outputs": [],
   "source": [
    "column_titles= ['PAY_TO_BILL_AMT1', 'PAY_TO_BILL_AMT2', 'PAY_TO_BILL_AMT3', 'PAY_TO_BILL_AMT4', 'PAY_TO_BILL_AMT6', 'PAY_TO_BILL_AMT6']\n",
    "# Creates new features that are the amount payed each month normalized to the bill for the month\n",
    "i = 0\n",
    "while i < 6:\n",
    "    pay = X_new.iloc[:, 17+i] # Stores the amount paid that month\n",
    "    bill = X_new.iloc[:, 11+i] # Stores the amount billed that month\n",
    "    X_new[column_titles[0+i]] = [p/b if b != 0 else 0 for p, b in zip(pay, bill)] # Divides the amount paid by the bill\n",
    "    i += 1\n",
    "\n",
    "X_new = X_new.drop(X_new.columns[11:23], axis=1) # Drops the original amount paid and billed columns\n",
    "print(X_new.head())"
   ]
  },
  {
   "cell_type": "code",
   "execution_count": null,
   "id": "547be221",
   "metadata": {},
   "outputs": [],
   "source": [
    "# Encodes Education with one hot encoding\n",
    "education_encoded = pd.get_dummies(X_new['EDUCATION'], prefix='EDUCATION', dtype=float) \n",
    "X_new = pd.concat([X_new, education_encoded], axis=1) \n",
    "X_new = X_new.drop(['EDUCATION'], axis=1) # Drops original Education column\n",
    "print(X_new.head())"
   ]
  },
  {
   "cell_type": "markdown",
   "id": "82b743e7",
   "metadata": {},
   "source": [
    "### Feature Ideas that performed worse with than without"
   ]
  },
  {
   "cell_type": "code",
   "execution_count": null,
   "id": "0d4dc05c",
   "metadata": {},
   "outputs": [],
   "source": [
    "# X_new['total_pay'] = X_new.iloc[:, 17:23].sum(axis=1) # The total amount payed across the six months\n",
    "# X_new['total_bill'] = X_new.iloc[:, 11:17].sum(axis=1) # The total amount billed across the six months\n",
    "#  # The total amount paid divided by the total amount billed across the six months\n",
    "# X_new['total_pay_to_total_bill'] = [p/b if b != 0 else 0 for p, b in zip(X_new['total_pay'], X_new['total_bill'])]\n",
    "# print(X_new.head())"
   ]
  },
  {
   "cell_type": "code",
   "execution_count": null,
   "id": "af483409",
   "metadata": {},
   "outputs": [],
   "source": [
    "# # Encodes Marriage with one hot encoding\n",
    "# marriage_encoded = pd.get_dummies(X_new['MARRIAGE'], prefix='MARRIAGE', dtype=float) \n",
    "# X_new = pd.concat([X_new, marriage_encoded], axis=1)\n",
    "# X_new = X_new.drop(['MARRIAGE'], axis=1) # Drops original Marriage column\n",
    "# print(X_new.head())"
   ]
  },
  {
   "cell_type": "markdown",
   "id": "95fabf96",
   "metadata": {},
   "source": [
    "## Split and Training"
   ]
  },
  {
   "cell_type": "code",
   "execution_count": null,
   "id": "7d7e87a4",
   "metadata": {},
   "outputs": [],
   "source": [
    "# Split the data into training and testing sets\n",
    "X_train, X_test, y_train, y_test = train_test_split(\n",
    "X_new, y_new, test_size=0.2, random_state=42, stratify=y_new\n",
    ")\n",
    "\n",
    "# Initialize the scaler\n",
    "scaler = StandardScaler() \n",
    "\n",
    "X_train_scaled = scaler.fit_transform(X_train)\n",
    "X_test_scaled = scaler.transform(X_test) \n",
    "\n",
    "# Initialize regression model\n",
    "LRmodel = LogisticRegression(max_iter=15000)\n",
    "\n",
    "#Fit the model\n",
    "LRmodel.fit(X_train_scaled, np.ravel(y_train))"
   ]
  },
  {
   "cell_type": "markdown",
   "id": "517ce9cc",
   "metadata": {},
   "source": [
    "## Evaluation"
   ]
  },
  {
   "cell_type": "code",
   "execution_count": null,
   "id": "867d3953",
   "metadata": {},
   "outputs": [],
   "source": [
    "# Evaluates the accuracy\n",
    "train_score = LRmodel.score(X_train_scaled, y_train)\n",
    "test_score = LRmodel.score(X_test_scaled, y_test)\n",
    "# Shows accuracy score\n",
    "print(\"train: \")\n",
    "print(train_score)\n",
    "print(\"test: \")\n",
    "print(test_score)\n",
    "\n",
    "# Baseline\n",
    "baseline = DummyClassifier(strategy=\"most_frequent\")\n",
    "baseline.fit(X_train_scaled, y_train)\n",
    "\n",
    "#Baseline test\n",
    "print(\"Baseline test:\")\n",
    "print(baseline.score(X_test_scaled, y_test))\n",
    "\n",
    "\n",
    "# Shows coefficients\n",
    "print(\"Coefficents:\")\n",
    "print(LRmodel.coef_)\n"
   ]
  },
  {
   "cell_type": "code",
   "execution_count": null,
   "id": "d04e495f",
   "metadata": {},
   "outputs": [],
   "source": [
    "# Confusion Matrix\n",
    "# Predict\n",
    "y_pred = LRmodel.predict(X_test_scaled)\n",
    "\n",
    "cm = confusion_matrix(y_test, y_pred)\n",
    "\n",
    "# Define class names\n",
    "class_names = ['No Default', 'Default']\n",
    "\n",
    "# Plot Confusion Matrix\n",
    "plt.figure(figsize=(6, 5))\n",
    "sns.heatmap(cm, annot=True, fmt='d', cmap='Blues', xticklabels=class_names, yticklabels=class_names)\n",
    "plt.xlabel('Predicted')\n",
    "plt.ylabel('Actual')\n",
    "plt.title('Confusion Matrix')\n",
    "plt.show()"
   ]
  }
 ],
 "metadata": {
  "kernelspec": {
   "display_name": "Python 3",
   "language": "python",
   "name": "python3"
  },
  "language_info": {
   "codemirror_mode": {
    "name": "ipython",
    "version": 3
   },
   "file_extension": ".py",
   "mimetype": "text/x-python",
   "name": "python",
   "nbconvert_exporter": "python",
   "pygments_lexer": "ipython3",
   "version": "3.13.5"
  }
 },
 "nbformat": 4,
 "nbformat_minor": 5
}
